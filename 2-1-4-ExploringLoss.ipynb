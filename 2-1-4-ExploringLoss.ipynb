{
  "nbformat": 4,
  "nbformat_minor": 0,
  "metadata": {
    "colab": {
      "name": "ExploringLoss.ipynb",
      "provenance": []
    },
    "kernelspec": {
      "display_name": "Python 3",
      "language": "python",
      "name": "python3"
    },
    "language_info": {
      "codemirror_mode": {
        "name": "ipython",
        "version": 3
      },
      "file_extension": ".py",
      "mimetype": "text/x-python",
      "name": "python",
      "nbconvert_exporter": "python",
      "pygments_lexer": "ipython3",
      "version": "3.6.9"
    }
  },
  "cells": [
    {
      "cell_type": "code",
      "metadata": {
        "colab": {
          "base_uri": "https://localhost:8080/"
        },
        "id": "PwrR2q7tZKPi",
        "outputId": "a4030854-8252-4978-b85c-8b66c99b3d1f"
      },
      "source": [
        "import math\n",
        "# Edit these parameters to try different loss\n",
        "# measurements. Rerun this cell when done\n",
        "# Your Y will be calculated as Y=wX+b, so\n",
        "# if w=3, and b=-1, then Y=3x-1\n",
        "\n",
        "w = 3\n",
        "b = -1\n",
        "\n",
        "x = [-1, 0, 1, 2, 3, 4]\n",
        "y = [-3, -1, 1, 3, 5, 7]\n",
        "myY = []\n",
        "\n",
        "\n",
        "for thisX in x:\n",
        "  thisY = (w*thisX)+b\n",
        "  myY.append(thisY)\n",
        "\n",
        "print(\"Real Y is \" + str(y))\n",
        "print(\"My Y is   \" + str(myY))\n",
        "\n",
        "# let's calculate the loss\n",
        "total_square_error = 0\n",
        "for i in range(0, len(y)):\n",
        "  square_error = (y[i] - myY[i]) ** 2\n",
        "  total_square_error += square_error\n",
        "\n",
        "print(\"My loss is: \" + str(math.sqrt(total_square_error)))"
      ],
      "execution_count": 1,
      "outputs": [
        {
          "output_type": "stream",
          "text": [
            "Real Y is [-3, -1, 1, 3, 5, 7]\n",
            "My Y is   [-4, -1, 2, 5, 8, 11]\n",
            "My loss is: 5.5677643628300215\n"
          ],
          "name": "stdout"
        }
      ]
    },
    {
      "cell_type": "markdown",
      "metadata": {
        "id": "HzgBKBISz5Xa"
      },
      "source": [
        "# This program demonstrates how loss is calculated using the diffrence between the guess we have made and the actual answers. The loss could be negative and possitive and just adding them may give us false sense of accuracy when negative losses are present. Thus, we first square individual losses for each value of actual y and the y we predicted and square them. Squaring them takes care of the sign and now when we add them and take a square root we get our true loss. This process of calculating loss is called mean squared loss. Smaller the loss accurate your guess is."
      ]
    },
    {
      "cell_type": "code",
      "metadata": {
        "id": "Ykce7Zugzdy5"
      },
      "source": [
        ""
      ],
      "execution_count": null,
      "outputs": []
    }
  ]
}